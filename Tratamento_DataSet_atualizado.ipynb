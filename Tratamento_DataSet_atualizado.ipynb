{
 "cells": [
  {
   "cell_type": "markdown",
   "metadata": {},
   "source": [
    "Estrutura de arquivos:\n",
    "\n",
    "```\n",
    ".\n",
    "..\n",
    "Tratamento_DataSet_atualizado.ipynb\n",
    "content/\n",
    "    Dados_Censo_PopRua_2020.xlsx\n",
    "    csvs (futuros)\n",
    "```"
   ]
  },
  {
   "cell_type": "markdown",
   "metadata": {
    "id": "Rp7f6iQOVMMD"
   },
   "source": [
    "## Ajeitando o Banco de Dados:"
   ]
  },
  {
   "cell_type": "code",
   "execution_count": 1,
   "metadata": {
    "id": "KQWfligqMN9U"
   },
   "outputs": [],
   "source": [
    "import pandas as pd"
   ]
  },
  {
   "cell_type": "code",
   "execution_count": 2,
   "metadata": {
    "colab": {
     "base_uri": "https://localhost:8080/",
     "height": 339
    },
    "id": "GQc_MzPaMVOi",
    "outputId": "538154ef-f09f-49b7-8a7f-23dd7e0a5daf"
   },
   "outputs": [],
   "source": [
    "df = pd.read_excel('content/Dados_Censo_PopRua_2020.xlsx')"
   ]
  },
  {
   "cell_type": "code",
   "execution_count": 3,
   "metadata": {
    "id": "eAbA4RDLN7Ke"
   },
   "outputs": [
    {
     "name": "stdout",
     "output_type": "stream",
     "text": [
      "<class 'pandas.core.frame.DataFrame'>\n",
      "RangeIndex: 7272 entries, 0 to 7271\n",
      "Columns: 132 entries, ID to 130\n",
      "dtypes: float64(4), int64(3), object(125)\n",
      "memory usage: 7.3+ MB\n"
     ]
    }
   ],
   "source": [
    "df.info()"
   ]
  },
  {
   "cell_type": "markdown",
   "metadata": {
    "id": "GY5ObYRO-1_U"
   },
   "source": [
    "## Pessoa"
   ]
  },
  {
   "cell_type": "code",
   "execution_count": 4,
   "metadata": {
    "id": "KRucGhiEOa1G"
   },
   "outputs": [
    {
     "name": "stdout",
     "output_type": "stream",
     "text": [
      "   ID Faixa_etaria  Idade       Sexo      Genero Cor_raca Residencia_fixa  \\\n",
      "0   0      18 a 30     22  Masculino   Homem Cis    Preta             Não   \n",
      "1   1      31 a 49     45  Masculino   Homem Cis    Preta             Sim   \n",
      "2   2      31 a 49     44  Masculino   Homem Cis    Preta             Não   \n",
      "3   3      50 a 59     57   Feminino  Mulher Cis   Branca             Não   \n",
      "4   4      31 a 49     32  Masculino   Homem Cis    Preta             Não   \n",
      "\n",
      "                Tempo_rua_RJ Voltar_cidade_natal  \n",
      "0                      NS/NR       Não se aplica  \n",
      "1  Mais de 1 mês até 6 meses                 Não  \n",
      "2  Mais de 5 ano até 10 anos       Não se aplica  \n",
      "3            Mais de 15 anos       Não se aplica  \n",
      "4   Mais de 1 ano até 5 anos       Não se aplica  \n"
     ]
    }
   ],
   "source": [
    "# Criação da Tabela de Pessoa\n",
    "Pessoa = df.loc[:, ['ID', 'Faixa_etaria', 'Idade', 'Sexo', 'Genero', 'Cor_raca', 'Residencia_fixa', 'Tempo_rua_RJ', 'Voltar_cidade_natal']]\n",
    "\n",
    "print(Pessoa.head())"
   ]
  },
  {
   "cell_type": "markdown",
   "metadata": {
    "id": "HVdNR9-O-6SF"
   },
   "source": [
    "## Documentos / possui"
   ]
  },
  {
   "cell_type": "code",
   "execution_count": 5,
   "metadata": {
    "id": "2hmmcpcOwzuh"
   },
   "outputs": [
    {
     "name": "stdout",
     "output_type": "stream",
     "text": [
      "Tabela Documentos:\n",
      "        codigo                    tipo_documento\n",
      "0  codigo_DOC1                     Documento_CPF\n",
      "1  codigo_DOC2  Documento_Certidao_de_Nascimento\n",
      "2  codigo_DOC3  Documento_Carteira_de_Identidade\n",
      "3  codigo_DOC4    Documento_Carteira_de_Trabalho\n",
      "4  codigo_DOC5       Documento_Titulo_de_Eleitor\n",
      "\n",
      "Tabela Possui:\n",
      "       morador_id       codigo\n",
      "0               2  codigo_DOC1\n",
      "1               2  codigo_DOC3\n",
      "2               2  codigo_DOC4\n",
      "3               2  codigo_DOC5\n",
      "4               3  codigo_DOC1\n",
      "...           ...          ...\n",
      "11157        7094  codigo_DOC3\n",
      "11158        7094  codigo_DOC5\n",
      "11159        7095  codigo_DOC1\n",
      "11160        7095  codigo_DOC3\n",
      "11161        7096  codigo_DOC3\n",
      "\n",
      "[11162 rows x 2 columns]\n"
     ]
    }
   ],
   "source": [
    "# Criar um dicionário de mapeamento de documentos para códigos\n",
    "mapeamento_documentos = {\n",
    "    'Documento_CPF': 'DOC1',\n",
    "    'Documento_Certidao_de_Nascimento': 'DOC2',\n",
    "    'Documento_Carteira_de_Identidade': 'DOC3',\n",
    "    'Documento_Carteira_de_Trabalho': 'DOC4',\n",
    "    'Documento_Titulo_de_Eleitor': 'DOC5'\n",
    "}\n",
    "\n",
    "# Criar uma lista para armazenar as linhas resultantes da tabela Documentos\n",
    "linhas_documentos = []\n",
    "\n",
    "# Iterar sobre cada tipo de documento\n",
    "for documento, codigo in mapeamento_documentos.items():\n",
    "    linhas_documentos.append({'codigo': f'codigo_{codigo}', 'tipo_documento': documento})\n",
    "\n",
    "# Criar a tabela Documentos\n",
    "Documentos = pd.DataFrame(linhas_documentos)\n",
    "\n",
    "# Criar uma lista para armazenar as linhas resultantes da tabela Possui\n",
    "linhas_possui = []\n",
    "\n",
    "# Iterar sobre cada linha do DataFrame original\n",
    "for _, row in df.iterrows():\n",
    "    morador_id = row['ID']  # Supondo que 'ID' é a chave primária da tabela principal\n",
    "\n",
    "    # Iterar sobre cada tipo de documento\n",
    "    for documento, codigo in mapeamento_documentos.items():\n",
    "        resposta_documento = row[documento]\n",
    "        if resposta_documento.lower() in ['tenho']:\n",
    "            linhas_possui.append({'morador_id': morador_id, 'codigo': f'codigo_{codigo}'})\n",
    "\n",
    "# Criar a tabela Possui\n",
    "possui = pd.DataFrame(linhas_possui)\n",
    "\n",
    "print(\"Tabela Documentos:\")\n",
    "print(Documentos)\n",
    "\n",
    "print(\"\\nTabela Possui:\")\n",
    "print(possui)"
   ]
  },
  {
   "cell_type": "markdown",
   "metadata": {
    "id": "CBPVUrzB-95C"
   },
   "source": [
    "## Saúde / estado_de"
   ]
  },
  {
   "cell_type": "code",
   "execution_count": 6,
   "metadata": {
    "id": "jp-c7FKEpfVj"
   },
   "outputs": [
    {
     "name": "stdout",
     "output_type": "stream",
     "text": [
      "Tabela Saude:\n",
      "             codigo                          condicao\n",
      "0         codigo_D1           Problema_Saude_Diabetes\n",
      "1         codigo_D2       Problema_Saude_Pressao_alta\n",
      "2         codigo_D3           Problema_Saude_HIV_AIDS\n",
      "3         codigo_D4    Problema_Saude_Sifilis_ou_ISTs\n",
      "4         codigo_D5   Problema_Saude_Asma_Bronq_Pneum\n",
      "5         codigo_D6        Problema_Saude_Tuberculose\n",
      "6         codigo_D7     Problema_Saude_Cancer_Tumores\n",
      "7         codigo_D8           Problema_Saude_Hepatite\n",
      "8         codigo_D9   Problema_Saude_Mental_Epilepsia\n",
      "9        codigo_D10       Problema_Saude_Lepra_outras\n",
      "10       codigo_D11  Problema_Saude_Infeccao_Urinaria\n",
      "11       codigo_D12  Problema_Saude_Ferim_frat_outros\n",
      "12  codigo_gravidez                          Gravidez\n",
      "\n",
      "Tabela estado_de:\n",
      "        ID      codigo\n",
      "0        2   codigo_D6\n",
      "1        4   codigo_D2\n",
      "2       11   codigo_D8\n",
      "3       13   codigo_D5\n",
      "4       13  codigo_D12\n",
      "...    ...         ...\n",
      "2446  6977   codigo_D2\n",
      "2447  6977  codigo_D11\n",
      "2448  6980   codigo_D9\n",
      "2449  6982   codigo_D4\n",
      "2450  6982   codigo_D9\n",
      "\n",
      "[2451 rows x 2 columns]\n"
     ]
    }
   ],
   "source": [
    "# Criar um dicionário de mapeamento de doenças para códigos\n",
    "mapeamento_doencas = {\n",
    "    'Diabetes': 'D1',\n",
    "    'Pressao_alta': 'D2',\n",
    "    'HIV_AIDS': 'D3',\n",
    "    'Sifilis_ou_ISTs': 'D4',\n",
    "    'Asma_Bronq_Pneum': 'D5',\n",
    "    'Tuberculose': 'D6',\n",
    "    'Cancer_Tumores': 'D7',\n",
    "    'Hepatite': 'D8',\n",
    "    'Mental_Epilepsia': 'D9',\n",
    "    'Lepra_outras': 'D10',\n",
    "    'Infeccao_Urinaria': 'D11',\n",
    "    'Ferim_frat_outros': 'D12'\n",
    "}\n",
    "\n",
    "# Criar uma lista para armazenar as linhas resultantes da tabela Saude\n",
    "linhas_saude = []\n",
    "\n",
    "# Iterar sobre cada condição de saúde\n",
    "for doenca, codigo in mapeamento_doencas.items():\n",
    "    linhas_saude.append({'codigo': f'codigo_{codigo}', 'condicao': f'Problema_Saude_{doenca}'})\n",
    "\n",
    "# Adicionar a condição de gravidez na tabela Saude\n",
    "linhas_saude.append({'codigo': 'codigo_gravidez', 'condicao': 'Gravidez'})\n",
    "\n",
    "# Criar a tabela Saude\n",
    "Saude = pd.DataFrame(linhas_saude)\n",
    "\n",
    "# Criar uma lista para armazenar as linhas resultantes da tabela estado_de\n",
    "linhas_estado_de = []\n",
    "\n",
    "# Iterar sobre cada linha do DataFrame original\n",
    "for _, row in df.iterrows():\n",
    "    morador_id = row['ID']  # Supondo que 'ID' é a chave primária da tabela principal\n",
    "\n",
    "    # Iterar sobre cada condição de saúde\n",
    "    for doenca, codigo in mapeamento_doencas.items():\n",
    "        resposta_doenca = row[f'Problema_Saude_{doenca}']\n",
    "        if resposta_doenca.lower() in ['sim']:\n",
    "            linhas_estado_de.append({'ID': morador_id, 'codigo': f'codigo_{codigo}'})\n",
    "\n",
    "    # Adicionar a condição de gravidez\n",
    "    resposta_gravidez = row['Gravidez']\n",
    "    if resposta_gravidez.lower() in ['sim']:\n",
    "        linhas_estado_de.append({'ID': morador_id, 'codigo': 'codigo_gravidez'})\n",
    "\n",
    "# Criar a tabela estado_de\n",
    "estado_de = pd.DataFrame(linhas_estado_de)\n",
    "\n",
    "print(\"Tabela Saude:\")\n",
    "print(Saude)\n",
    "\n",
    "print(\"\\nTabela estado_de:\")\n",
    "print(estado_de)"
   ]
  },
  {
   "cell_type": "markdown",
   "metadata": {
    "id": "fhSBx77N_Fr5"
   },
   "source": [
    "## Drogas / faz_uso"
   ]
  },
  {
   "cell_type": "code",
   "execution_count": 7,
   "metadata": {
    "colab": {
     "base_uri": "https://localhost:8080/"
    },
    "id": "ozooH34k1rST",
    "outputId": "b3d4e8ec-cb78-407f-a75d-bd1921b22296"
   },
   "outputs": [
    {
     "name": "stdout",
     "output_type": "stream",
     "text": [
      "Tabela Drogas:\n",
      "          codigo                       tipo_droga\n",
      "0  codigo_DROGA1                    Drogas_Tabaco\n",
      "1  codigo_DROGA2                    Drogas_Alcool\n",
      "2  codigo_DROGA3            Drogas_Maconha_Haxixe\n",
      "3  codigo_DROGA4           Drogas_Crack_Similares\n",
      "4  codigo_DROGA5                   Drogas_Cocaina\n",
      "5  codigo_DROGA6  Drogas_Inalan_Cola_Solven_Tiner\n",
      "\n",
      "Tabela Faz_Uso:\n",
      "        ID         codigo\n",
      "0        4  codigo_DROGA1\n",
      "1        4  codigo_DROGA2\n",
      "2        4  codigo_DROGA3\n",
      "3        4  codigo_DROGA4\n",
      "4        4  codigo_DROGA5\n",
      "...    ...            ...\n",
      "8428  6982  codigo_DROGA2\n",
      "8429  6982  codigo_DROGA5\n",
      "8430  6983  codigo_DROGA1\n",
      "8431  6984  codigo_DROGA1\n",
      "8432  6984  codigo_DROGA2\n",
      "\n",
      "[8433 rows x 2 columns]\n"
     ]
    }
   ],
   "source": [
    "# Criar um dicionário de mapeamento de drogas para códigos\n",
    "mapeamento_drogas = {\n",
    "    'Tabaco': 'DROGA1',\n",
    "    'Alcool': 'DROGA2',\n",
    "    'Maconha_Haxixe': 'DROGA3',\n",
    "    'Crack_Similares': 'DROGA4',\n",
    "    'Cocaina': 'DROGA5',\n",
    "    'Inalan_Cola_Solven_Tiner': 'DROGA6',\n",
    "}\n",
    "\n",
    "# Criar uma lista para armazenar as linhas resultantes da tabela Drogas\n",
    "linhas_drogas = []\n",
    "\n",
    "# Iterar sobre cada tipo de droga\n",
    "for droga, codigo in mapeamento_drogas.items():\n",
    "    linhas_drogas.append({'codigo': f'codigo_{codigo}', 'tipo_droga': f'Drogas_{droga}'})\n",
    "# Criar a tabela Drogas\n",
    "Drogas = pd.DataFrame(linhas_drogas)\n",
    "\n",
    "# Criar uma lista para armazenar as linhas resultantes da tabela Faz_Uso\n",
    "linhas_faz_uso = []\n",
    "\n",
    "# Iterar sobre cada linha do DataFrame original\n",
    "for _, row in df.iterrows():\n",
    "    morador_id = row['ID']\n",
    "\n",
    "    # Iterar sobre cada tipo de droga\n",
    "    for droga, codigo in mapeamento_drogas.items():\n",
    "        resposta_droga = row[f'Drogas_{droga}']\n",
    "        if resposta_droga.lower() in ['sim']:\n",
    "            linhas_faz_uso.append({'ID': morador_id, 'codigo': f'codigo_{codigo}'})\n",
    "\n",
    "# Criar a tabela Faz_Uso\n",
    "faz_uso = pd.DataFrame(linhas_faz_uso)\n",
    "\n",
    "print(\"Tabela Drogas:\")\n",
    "print(Drogas)\n",
    "\n",
    "print(\"\\nTabela Faz_Uso:\")\n",
    "print(faz_uso)"
   ]
  },
  {
   "cell_type": "markdown",
   "metadata": {
    "id": "Nf4farie_JC3"
   },
   "source": [
    "## SituacaoRua / vive"
   ]
  },
  {
   "cell_type": "code",
   "execution_count": 8,
   "metadata": {
    "colab": {
     "base_uri": "https://localhost:8080/"
    },
    "id": "gHW9M3az6C_S",
    "outputId": "bcd15ee1-38aa-4100-844e-03fa647d2c73"
   },
   "outputs": [
    {
     "name": "stdout",
     "output_type": "stream",
     "text": [
      "Tabela SituacaoRua:\n",
      "        ID Rua_Acolhimento                                  Motivo_dormir_rua\n",
      "0        0             Rua                                              NS/NR\n",
      "1        1             Rua       Desentendimentos na comunidade ou vizinhança\n",
      "2        2             Rua  Perda de casa por causas naturais/acidentes (e...\n",
      "3        3             Rua  Demissão do trabalho/desemprego ou perda da renda\n",
      "4        4             Rua                      Alcoolismo e/ou uso de drogas\n",
      "...    ...             ...                                                ...\n",
      "7267  7267       Acolhidos                                      Não se aplica\n",
      "7268  7268       Acolhidos                                      Não se aplica\n",
      "7269  7269       Acolhidos                                      Não se aplica\n",
      "7270  7270       Acolhidos                                      Não se aplica\n",
      "7271  7271       Acolhidos                                      Não se aplica\n",
      "\n",
      "[7272 rows x 3 columns]\n",
      "\n",
      "Tabela vive:\n",
      "        ID SituacaoRua\n",
      "0        0         Rua\n",
      "1        1         Rua\n",
      "2        2         Rua\n",
      "3        3         Rua\n",
      "4        4         Rua\n",
      "...    ...         ...\n",
      "7267  7267   Acolhidos\n",
      "7268  7268   Acolhidos\n",
      "7269  7269   Acolhidos\n",
      "7270  7270   Acolhidos\n",
      "7271  7271   Acolhidos\n",
      "\n",
      "[7272 rows x 2 columns]\n"
     ]
    }
   ],
   "source": [
    "# Criar uma lista para armazenar as linhas resultantes da tabela SituacaoRua\n",
    "linhas_situacao_rua = []\n",
    "\n",
    "# Iterar sobre cada linha do DataFrame original\n",
    "for _, row in df.iterrows():\n",
    "    morador_id = row['ID']  # Supondo que 'ID' é a chave primária da tabela principal\n",
    "\n",
    "    # Adicionar a situação de rua\n",
    "    rua_acolhimento = row['Rua_Acolhimento']\n",
    "    motivo_dormir_rua = row['Motivo_dormir_rua']\n",
    "\n",
    "    linhas_situacao_rua.append({'ID': morador_id, 'Rua_Acolhimento': rua_acolhimento, 'Motivo_dormir_rua': motivo_dormir_rua})\n",
    "\n",
    "# Criar a tabela SituacaoRua\n",
    "SituacaoRua = pd.DataFrame(linhas_situacao_rua)\n",
    "\n",
    "# Criar uma lista para armazenar as linhas resultantes da tabela vive\n",
    "linhas_vive = []\n",
    "\n",
    "# Iterar sobre cada linha do DataFrame original\n",
    "for _, row in df.iterrows():\n",
    "    morador_id = row['ID']  # Supondo que 'ID' é a chave primária da tabela principal\n",
    "\n",
    "    # Adicionar a relação de viver na rua ou abrigado\n",
    "    situacao_rua = row['Rua_Acolhimento']\n",
    "\n",
    "    if situacao_rua.lower() == 'rua':\n",
    "        linhas_vive.append({'ID': morador_id, 'SituacaoRua': 'Rua'})\n",
    "    elif situacao_rua.lower() == 'acolhidos':\n",
    "        linhas_vive.append({'ID': morador_id, 'SituacaoRua': 'Acolhidos'})\n",
    "\n",
    "# Criar a tabela vive\n",
    "vive_em = pd.DataFrame(linhas_vive)\n",
    "\n",
    "print(\"Tabela SituacaoRua:\")\n",
    "print(SituacaoRua)\n",
    "\n",
    "print(\"\\nTabela vive:\")\n",
    "print(vive_em)"
   ]
  },
  {
   "cell_type": "markdown",
   "metadata": {
    "id": "QJWYLeJk_Mp0"
   },
   "source": [
    "## Coleta / realizou_se / Bairro"
   ]
  },
  {
   "cell_type": "code",
   "execution_count": 9,
   "metadata": {},
   "outputs": [],
   "source": [
    "from datetime import datetime"
   ]
  },
  {
   "cell_type": "code",
   "execution_count": 10,
   "metadata": {
    "colab": {
     "base_uri": "https://localhost:8080/"
    },
    "id": "ZxHhLnn17qVY",
    "outputId": "fd06b877-d9fe-4f90-c71d-10eca3ec820c"
   },
   "outputs": [
    {
     "name": "stdout",
     "output_type": "stream",
     "text": [
      "Tabela coleta:\n",
      "        ID          Turno  Codigo_da_RA\n",
      "0        0          Manhã            19\n",
      "1        1          Manhã            18\n",
      "2        2          Manhã            18\n",
      "3        3          Manhã            18\n",
      "4        4          Manhã            18\n",
      "...    ...            ...           ...\n",
      "7267  7267  Não se aplica            26\n",
      "7268  7268  Não se aplica            26\n",
      "7269  7269  Não se aplica            26\n",
      "7270  7270  Não se aplica            26\n",
      "7271  7271  Não se aplica            26\n",
      "\n",
      "[7272 rows x 3 columns]\n",
      "\n",
      "Tabela bairro:\n",
      "                   nome_bairro  Codigo_da_RA\n",
      "0                    Paciência            19\n",
      "1                 Campo Grande            18\n",
      "6     Recreio dos Bandeirantes            24\n",
      "26                       Bangu            17\n",
      "31                    Sepetiba            19\n",
      "...                        ...           ...\n",
      "6394        Barra de Guaratiba            26\n",
      "6984                   Rocinha            27\n",
      "6995                     Acari            25\n",
      "7065                    Moneró            20\n",
      "7077        Pedra de Guaratiba            26\n",
      "\n",
      "[135 rows x 2 columns]\n",
      "\n",
      "Tabela realizou_se:\n",
      "         ID  Codigo_da_RA  nome_bairro\n",
      "0         0            19    Paciência\n",
      "1         0            19     Sepetiba\n",
      "2         0            19   Santa Cruz\n",
      "3        31            19    Paciência\n",
      "4        31            19     Sepetiba\n",
      "...     ...           ...          ...\n",
      "34841  5380            28  Jacarezinho\n",
      "34842  5381            28  Jacarezinho\n",
      "34843  5382            28  Jacarezinho\n",
      "34844  5393            28  Jacarezinho\n",
      "34845  6984            27      Rocinha\n",
      "\n",
      "[34846 rows x 3 columns]\n"
     ]
    }
   ],
   "source": [
    "# Criar uma lista para armazenar as linhas resultantes da tabela coleta\n",
    "linhas_coleta = []\n",
    "\n",
    "# Criar uma lista para armazenar as linhas resultantes da tabela bairro\n",
    "linhas_bairro = []\n",
    "\n",
    "# Iterar sobre cada linha do DataFrame original\n",
    "for _, row in df.iterrows():\n",
    "    morador_id = row['ID']  # Supondo que 'ID' é a chave primária da tabela principal\n",
    "    turno = row['Turno']  # Supondo que 'Turno' é a coluna que armazena o turno da coleta\n",
    "    codigo_bairro_ra = row['Codigo_da_RA']  # Supondo que 'Codigo_da_RA' é a coluna que armazena o código da RA\n",
    "    local_coleta = row['Local_da_coleta_de_dados']  # Supondo que 'Local_da_coleta_de_dados' é a coluna que armazena o local da coleta\n",
    "    nome_bairro = row['Bairro'] #MUDEI ISSO AQUIIIIIIIII\n",
    "\n",
    "\n",
    "    # Adicionar informações à tabela coleta\n",
    "#    linhas_coleta.append({'ID': morador_id, 'Data': data, 'Turno': turno, 'Codigo_da_RA': codigo_bairro_ra})\n",
    "    linhas_coleta.append({'ID': morador_id, 'Turno': turno, 'Codigo_da_RA': codigo_bairro_ra})\n",
    "\n",
    "    # Adicionar informações à tabela bairro\n",
    "    linhas_bairro.append({'nome_bairro': nome_bairro, 'Codigo_da_RA': codigo_bairro_ra}) #MUDEI ISSO AQUIIIIIIIIIII\n",
    "\n",
    "# Criar a tabela coleta\n",
    "coleta = pd.DataFrame(linhas_coleta)\n",
    "\n",
    "# Criar a tabela bairro\n",
    "bairro = pd.DataFrame(linhas_bairro).drop_duplicates()\n",
    "\n",
    "# Criar a tabela realizou_se\n",
    "realizou_se = pd.merge(coleta, bairro, left_on='Codigo_da_RA', right_on='Codigo_da_RA', how='inner').drop(columns=['Turno'])\n",
    "\n",
    "print(\"Tabela coleta:\")\n",
    "print(coleta)\n",
    "\n",
    "print(\"\\nTabela bairro:\")\n",
    "print(bairro)\n",
    "\n",
    "print(\"\\nTabela realizou_se:\")\n",
    "print(realizou_se)\n"
   ]
  },
  {
   "cell_type": "markdown",
   "metadata": {
    "id": "57TecPOsXf0N"
   },
   "source": [
    "# Tentando baixar as tabelas criadas no PC:"
   ]
  },
  {
   "cell_type": "code",
   "execution_count": 11,
   "metadata": {},
   "outputs": [],
   "source": [
    "caminho = 'content/'\n",
    "\n",
    "# dePara com nome da tabela no sql -- nome do csv correspondente\n",
    "tabela_arquivo = {'Pessoa' : 'Pessoa.csv',\n",
    "                  'Documentos': 'Documentos.csv', \n",
    "                  'possui': 'possui.csv',\n",
    "                  'SituacaoRua': 'SituacaoRua.csv',\n",
    "                  'vive': 'vive.csv',\n",
    "                  'Drogas': 'Drogas.csv',\n",
    "                  'Saude': 'Saude.csv',\n",
    "                  'bairro': 'bairro.csv',\n",
    "                  'coleta': 'coleta.csv',\n",
    "                  'estado_de': 'estado_de.csv',\n",
    "                  'faz_uso': 'faz_uso.csv',\n",
    "                  'realizou_se': 'realizou_se.csv'\n",
    "                 }"
   ]
  },
  {
   "cell_type": "code",
   "execution_count": 12,
   "metadata": {
    "colab": {
     "base_uri": "https://localhost:8080/",
     "height": 17
    },
    "id": "PRwVU88-XiZ0",
    "outputId": "d38b23dd-af4e-4c07-a780-3eea12ad2ee2"
   },
   "outputs": [],
   "source": [
    "Pessoa.to_csv(caminho + tabela_arquivo['Pessoa'], index=False)\n",
    "Documentos.to_csv(caminho + tabela_arquivo['Documentos'], index=False)\n",
    "possui.to_csv(caminho + tabela_arquivo['possui'], index=False)\n",
    "vive_em.to_csv(caminho + tabela_arquivo['vive'], index=False)\n",
    "SituacaoRua.to_csv(caminho + tabela_arquivo['SituacaoRua'], index=False)\n",
    "Drogas.to_csv(caminho + tabela_arquivo['Drogas'], index=False)\n",
    "Saude.to_csv(caminho + tabela_arquivo['Saude'], index=False)\n",
    "bairro.to_csv(caminho + tabela_arquivo['bairro'], index=False)\n",
    "coleta.to_csv(caminho + tabela_arquivo['coleta'], index=False)\n",
    "estado_de.to_csv(caminho + tabela_arquivo['estado_de'], index=False)\n",
    "faz_uso.to_csv(caminho + tabela_arquivo['faz_uso'], index=False)\n",
    "realizou_se.to_csv(caminho + tabela_arquivo['realizou_se'], index=False)\n",
    "\n",
    "# from google.colab import files\n",
    "\n",
    "# files.download('Pessoa.csv')\n",
    "# files.download('Documentos.csv')\n",
    "# files.download('possui.csv')\n",
    "# files.download('vive.csv')\n",
    "# files.download('SituacaoRua.csv')\n",
    "# files.downloa': 5393d('Drogas.csv')\n",
    "# files.download('Saude.csv')\n",
    "# files.download('bairro.csv')\n",
    "# files.download('coleta.csv')\n",
    "# files.download('estado_de.csv')\n",
    "# files.download('faz_uso.csv')\n",
    "# files.download('realizou_se.csv')"
   ]
  },
  {
   "cell_type": "markdown",
   "metadata": {},
   "source": [
    "### Criando o Arquivo SQL"
   ]
  },
  {
   "cell_type": "code",
   "execution_count": 22,
   "metadata": {},
   "outputs": [
    {
     "name": "stdout",
     "output_type": "stream",
     "text": [
      "Script salvo com sucesso!\n"
     ]
    }
   ],
   "source": [
    "script_sql = \"\"\"\n",
    "-- Criação da tabela Pessoa\n",
    "CREATE TABLE Pessoa (\n",
    "    ID INT PRIMARY KEY,\n",
    "    Faixa_etaria VARCHAR(255),\n",
    "    Idade INT,\n",
    "    Sexo VARCHAR(255),\n",
    "    Genero VARCHAR(255),\n",
    "    Cor_raca VARCHAR(255),\n",
    "    Residencia_fixa VARCHAR(255),\n",
    "    Tempo_rua_RJ VARCHAR(255),\n",
    "    Voltar_cidade_natal VARCHAR(255)\n",
    ");\n",
    "\n",
    "-- Criação da tabela Documentos\n",
    "CREATE TABLE Documentos (\n",
    "    codigo VARCHAR(255) PRIMARY KEY,\n",
    "    tipo_documento VARCHAR(255) NOT NULL\n",
    ");\n",
    "\n",
    "-- Criação da tabela possui\n",
    "CREATE TABLE possui (\n",
    "    morador_id INT,\n",
    "    codigo VARCHAR(255),\n",
    "    FOREIGN KEY (codigo) REFERENCES Documentos(codigo),\n",
    "    PRIMARY KEY (morador_id, codigo)\n",
    ");\n",
    "\n",
    "-- Criação da tabela Saude\n",
    "CREATE TABLE Saude (\n",
    "    codigo VARCHAR(255) PRIMARY KEY,\n",
    "    condicao VARCHAR(255) NOT NULL\n",
    ");\n",
    "\n",
    "-- Criação da tabela estado_de\n",
    "CREATE TABLE estado_de (\n",
    "    ID INT,\n",
    "    codigo VARCHAR(255),\n",
    "    FOREIGN KEY (codigo) REFERENCES Saude(codigo),\n",
    "    PRIMARY KEY (ID, codigo)\n",
    ");\n",
    "\n",
    "-- Criação da tabela Drogas\n",
    "CREATE TABLE Drogas (\n",
    "    codigo VARCHAR(255) PRIMARY KEY,\n",
    "    tipo_droga VARCHAR(255) NOT NULL\n",
    ");\n",
    "\n",
    "-- Criação da tabela faz_uso\n",
    "CREATE TABLE faz_uso (\n",
    "    ID INT,\n",
    "    codigo VARCHAR(255),\n",
    "    FOREIGN KEY (codigo) REFERENCES Drogas(codigo),\n",
    "    PRIMARY KEY (ID, codigo)\n",
    ");\n",
    "\n",
    "-- Criação da Tabela SituacaoRua\n",
    "CREATE TABLE SituacaoRua (\n",
    "    ID INT PRIMARY KEY,\n",
    "    Rua_Acolhimento VARCHAR(255),\n",
    "    Motivo_dormir_rua VARCHAR(500)\n",
    ");\n",
    "\n",
    "-- Criação da Tabela vive\n",
    "CREATE TABLE vive (\n",
    "    ID INT PRIMARY KEY,\n",
    "    SituacaoRua VARCHAR(255),\n",
    "    FOREIGN KEY (ID) REFERENCES SituacaoRua(ID)\n",
    ");\n",
    "\n",
    "-- Criação da Tabela bairro\n",
    "CREATE TABLE bairro (\n",
    "    Codigo_da_RA INT,\n",
    "    nome_bairro VARCHAR(255), \n",
    "    PRIMARY KEY (Codigo_da_RA, nome_bairro)\n",
    ");\n",
    "\n",
    "-- Criação da Tabela coleta\n",
    "CREATE TABLE coleta (\n",
    "    ID INT PRIMARY KEY,\n",
    "    -- Data DATE,\n",
    "    Turno VARCHAR(255),\n",
    "    Codigo_da_RA INT,\n",
    "    FOREIGN KEY (Codigo_da_RA) REFERENCES bairro(Codigo_da_RA)\n",
    ");\n",
    "\n",
    "-- Criação da Tabela realizou_se\n",
    "CREATE TABLE realizou_se (\n",
    "    ID INT,\n",
    "    nome_bairro VARCHAR(255),\n",
    "    Codigo_da_RA INT,\n",
    "    FOREIGN KEY (ID) REFERENCES coleta(ID),\n",
    "    FOREIGN KEY (Codigo_da_RA) REFERENCES bairro(Codigo_da_RA),\n",
    "    PRIMARY KEY(ID, nome_bairro, Codigo_da_RA)\n",
    ");\n",
    "\"\"\"\n",
    "\n",
    "# Escrever o script no arquivo\n",
    "with open(\"popRua.sql\", \"w\") as arquivo:\n",
    "    arquivo.write(script_sql)\n",
    "\n",
    "print(\"Script salvo com sucesso!\")"
   ]
  },
  {
   "cell_type": "markdown",
   "metadata": {
    "id": "2vEhECECh26e"
   },
   "source": [
    "### Criando a Database e Populando\n",
    "\n",
    "Instalem pandas (eu instalei pelo terminal usando `pip3 install pandas`) e esse sqlalchemy também das mesma forma)\n",
    "\n",
    "OBS: UM ERRO QUE EU TIVE FOI QUE MEU USUÁRIO TAVA SEM PRIVILÉGIO P/ INSERIR NAS TABELAS DA DATABASE, POR ALGUM MOTIVO... ENTÃO DEÊM O GRANT INSERT ON..."
   ]
  },
  {
   "cell_type": "code",
   "execution_count": 23,
   "metadata": {
    "id": "K0FM4anHhbAW"
   },
   "outputs": [],
   "source": [
    "import pandas as pd\n",
    "import mysql.connector\n",
    "from sqlalchemy import create_engine\n",
    "\n",
    "# Substitua 'seu_usuario', 'sua_senha', 'seu_host' e 'seu_banco' com suas credenciais e configurações\n",
    "usuario = 'root' # seu usuário\n",
    "senha = 'senha' # sua senha\n",
    "host = 'localhost'\n",
    "NOME_DB = 'popRua' # esse foi o nome que eu dei aqui no meu\n",
    "\n",
    "\n",
    "# Crie a conexão com o MySQL\n",
    "conn = create_engine(f'mysql+mysqlconnector://{usuario}:{senha}@{host}/{NOME_DB}')"
   ]
  },
  {
   "cell_type": "markdown",
   "metadata": {},
   "source": [
    "Limpa a instalação:"
   ]
  },
  {
   "cell_type": "code",
   "execution_count": 24,
   "metadata": {},
   "outputs": [
    {
     "name": "stdout",
     "output_type": "stream",
     "text": [
      "Limpeza executada!\n"
     ]
    }
   ],
   "source": [
    "# clean install\n",
    "conn.execute(\"DROP DATABASE IF EXISTS \" + NOME_DB)\n",
    "\n",
    "conn.execute(\"CREATE DATABASE IF NOT EXISTS \" + NOME_DB)\n",
    "\n",
    "print(\"Limpeza executada!\")"
   ]
  },
  {
   "cell_type": "markdown",
   "metadata": {},
   "source": [
    "Cria as tabelas a partir do arquivo .sql com os comandos"
   ]
  },
  {
   "cell_type": "code",
   "execution_count": 25,
   "metadata": {
    "scrolled": true
   },
   "outputs": [
    {
     "name": "stdout",
     "output_type": "stream",
     "text": [
      "Tabelas criadas com sucesso!\n"
     ]
    }
   ],
   "source": [
    "# Ler o conteúdo do arquivo .sql\n",
    "with open('popRua.sql', 'r') as file:\n",
    "    sql_commands = file.read()\n",
    "\n",
    "# Dividir os comandos SQL em instruções individuais\n",
    "commands = sql_commands.split(';')\n",
    "\n",
    "# Conectar ao banco de dados e executar os comandos\n",
    "with conn.connect() as connection:\n",
    "    # Selecionar a base de dados\n",
    "    connection.execute(f\"USE {NOME_DB}\")\n",
    "\n",
    "    for command in commands:\n",
    "        if command.strip():  # Ignorar linhas em branco\n",
    "            connection.execute(command)\n",
    "\n",
    "print(\"Tabelas criadas com sucesso!\")"
   ]
  },
  {
   "cell_type": "markdown",
   "metadata": {},
   "source": [
    "Populando popRua com os dados do CSV."
   ]
  },
  {
   "cell_type": "code",
   "execution_count": 26,
   "metadata": {
    "scrolled": true
   },
   "outputs": [],
   "source": [
    "for nomeTabela, arquivo in tabela_arquivo.items():  \n",
    "    # Caminho para o arquivo CSV\n",
    "    caminho_csv = caminho + arquivo\n",
    "\n",
    "    # Ler o arquivo CSV usando o pandas\n",
    "    tabela = pd.read_csv(caminho_csv)\n",
    "\n",
    "    # Inserir dados na tabela do MySQL\n",
    "    tabela.to_sql(nomeTabela, con=conn, if_exists='append', index=False)\n",
    "    \n",
    "    print()"
   ]
  },
  {
   "cell_type": "code",
   "execution_count": null,
   "metadata": {},
   "outputs": [],
   "source": []
  }
 ],
 "metadata": {
  "colab": {
   "provenance": []
  },
  "kernelspec": {
   "display_name": "Python 3",
   "language": "python",
   "name": "python3"
  },
  "language_info": {
   "codemirror_mode": {
    "name": "ipython",
    "version": 3
   },
   "file_extension": ".py",
   "mimetype": "text/x-python",
   "name": "python",
   "nbconvert_exporter": "python",
   "pygments_lexer": "ipython3",
   "version": "3.9.13"
  }
 },
 "nbformat": 4,
 "nbformat_minor": 1
}
